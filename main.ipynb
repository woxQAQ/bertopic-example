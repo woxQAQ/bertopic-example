{
 "cells": [
  {
   "cell_type": "markdown",
   "metadata": {},
   "source": [
    "get datasets from huggingface"
   ]
  },
  {
   "cell_type": "code",
   "execution_count": null,
   "metadata": {},
   "outputs": [],
   "source": [
    "from datasets import load_dataset\n",
    "dataset = load_dataset(\"ag_news\", split=\"train\")\n",
    "print(dataset[0])"
   ]
  },
  {
   "cell_type": "markdown",
   "metadata": {},
   "source": [
    "BERTopic 期望的输入是一个字符串列表。因此，你需要从 Hugging Face 数据集中提取包含文本的列，并将其转换为 Python 列表"
   ]
  },
  {
   "cell_type": "code",
   "execution_count": 7,
   "metadata": {},
   "outputs": [],
   "source": [
    "docs = dataset['text']"
   ]
  },
  {
   "cell_type": "code",
   "execution_count": null,
   "metadata": {},
   "outputs": [],
   "source": [
    "from bertopic import BERTopic\n",
    "import sentence_transformers\n",
    "\n",
    "# 初始化 BERTopic 模型\n",
    "embeddings = sentence_transformers.SentenceTransformer(\"all-MiniLM-L6-v2\")\n",
    "model = BERTopic(embedding_model=embeddings,verbose=True, language=\"english\") \n",
    "\n",
    "\n",
    "# 训练模型并获取文档的主题\n",
    "topics, probs = model.fit_transform(docs)"
   ]
  },
  {
   "cell_type": "code",
   "execution_count": null,
   "metadata": {},
   "outputs": [],
   "source": [
    "for i in topics:\n",
    "    print(probs[i])\n",
    "\n",
    "# 查看主题信息\n",
    "topic_info = model.get_topic_info()\n",
    "print(\"\\n--- 主题信息 ---\")\n",
    "print(topic_info.head())\n",
    "\n",
    "# 获取某个主题的关键词（例如主题 0）\n",
    "print(f\"\\n--- 主题 0 的关键词 ---\")\n",
    "print(model.get_topic(0))"
   ]
  }
 ],
 "metadata": {
  "kernelspec": {
   "display_name": ".venv",
   "language": "python",
   "name": "python3"
  },
  "language_info": {
   "codemirror_mode": {
    "name": "ipython",
    "version": 3
   },
   "file_extension": ".py",
   "mimetype": "text/x-python",
   "name": "python",
   "nbconvert_exporter": "python",
   "pygments_lexer": "ipython3",
   "version": "3.12.10"
  }
 },
 "nbformat": 4,
 "nbformat_minor": 2
}
